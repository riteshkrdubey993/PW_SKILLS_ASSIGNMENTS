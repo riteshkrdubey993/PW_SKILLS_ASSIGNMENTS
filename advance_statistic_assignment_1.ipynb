{
 "cells": [
  {
   "cell_type": "markdown",
   "id": "64b4ab9e-28ae-492c-8b26-a33bb84338c2",
   "metadata": {},
   "source": [
    "Q1. What is the Probability density function?"
   ]
  },
  {
   "cell_type": "markdown",
   "id": "d75f1517-7eaa-4680-bdc0-99d488d67fed",
   "metadata": {},
   "source": [
    "The Probability Density Function(PDF) defines the probability function representing the density of a continuous random variable lying between a specific range of values. In other words, the probability density function produces the likelihood of values of the continuous random variable. Sometimes it is also called a probability distribution function or just a probability function.\n",
    "\n",
    "In the case of a continuous random variable, the probability taken by X on some given value x is always 0. In this case, if we find P(X = x), it does not work. Instead of this, we must calculate the probability of X lying in an interval (a, b). Now, we have to figure it for P(a< X< b)."
   ]
  },
  {
   "cell_type": "markdown",
   "id": "501e93c5-20e6-4d60-ac0a-8d5bdfee1879",
   "metadata": {},
   "source": [
    "Q2. What are the types of Probability distribution?"
   ]
  },
  {
   "cell_type": "markdown",
   "id": "933d111c-36bd-4731-8400-08b577083c96",
   "metadata": {},
   "source": [
    "There are two types of probability distributions:\n",
    "\n",
    "1. Discrete probability distributions\n",
    "2. Continuous probability distributions\n",
    "\n",
    "Discrete probability distributions: A discrete probability distribution is a probability distribution of a categorical or discrete variable. Discrete probability distributions only include the probabilities of values that are possible. In other words, a discrete probability distribution doesn’t include any values with a probability of zero. For example, a probability distribution of dice rolls doesn’t include 2.5 since it’s not a possible outcome of dice rolls. The probability of all possible values in a discrete probability distribution add up to one. It’s certain (i.e., a probability of one) that an observation will have one of the possible values.\n",
    "\n",
    "Continuous probability distributions: A continuous probability distribution is the probability distribution of a continuous variable.A continuous variable can have any value between its lowest and highest values. Therefore, continuous probability distributions include every number in the variable’s range. The probability that a continuous variable will have any specific value is so infinitesimally small that it’s considered to have a probability of zero. However, the probability that a value will fall within a certain interval of values within its range is greater than zero."
   ]
  },
  {
   "cell_type": "markdown",
   "id": "3fc7d39f-f7e0-423f-87d5-578aaabc35a3",
   "metadata": {},
   "source": [
    "Q3. Write a Python function to calculate the probability density function of a normal distribution with\n",
    "given mean and standard deviation at a given point."
   ]
  },
  {
   "cell_type": "code",
   "execution_count": 17,
   "id": "f64e1fa2-a5ad-4764-a78c-ead828b6878e",
   "metadata": {},
   "outputs": [],
   "source": [
    "import math\n",
    "\n",
    "def pdf(mean,std,point):\n",
    "    coef = 1/(std*math.sqrt(2*math.pi))\n",
    "    expo = -0.5*((point-mean)/std)**2\n",
    "    val = coef*math.exp(expo)\n",
    "    return val"
   ]
  },
  {
   "cell_type": "markdown",
   "id": "052b1732-0e0d-4eb7-81dd-3127657c76af",
   "metadata": {},
   "source": [
    "Q4. What are the properties of Binomial distribution? Give two examples of events where binomial\n",
    "distribution can be applied."
   ]
  },
  {
   "cell_type": "markdown",
   "id": "557ebeff-cf4a-4a80-878d-8caf536f44ef",
   "metadata": {},
   "source": [
    "Properties of the Binomial distribution:\n",
    "\n",
    "Discrete Distribution: The Binomial distribution is a discrete probability distribution, meaning it is defined for a specific set of integer values representing the number of successes in the trials.\n",
    "\n",
    "Fixed Number of Trials (n): The number of trials (n) must be a fixed, known value before conducting the experiments. Each trial is independent of the others.\n",
    "\n",
    "Binary Outcomes (Success/Failure): Each trial has two possible outcomes: success (usually denoted as \"1\") with probability p and failure (usually denoted as \"0\") with probability q = 1 - p.\n",
    "\n",
    "Independent Trials: The outcome of one trial does not affect the outcome of other trials. Each trial is assumed to be independent.\n",
    "\n",
    "Probability Mass Function (PMF): The probability mass function of the Binomial distribution calculates the probability of getting exactly k successes in n trials.\n",
    "\n",
    "Examples of events where the Binomial distribution can be applied:\n",
    "\n",
    "Coin Flips: Consider flipping a fair coin (where p = 0.5) multiple times (n times). The Binomial distribution can be used to model the probability of getting a specific number of heads (successes) in those n flips.\n",
    "\n",
    "Quality Control: In a manufacturing process, a product might have a certain probability of being defective (p) or non-defective (q). The Binomial distribution can be applied to model the probability of finding a certain number of defective items in a random sample of a fixed number of items (n) from the production line"
   ]
  },
  {
   "cell_type": "markdown",
   "id": "c111e050-e7e7-4b4e-8975-2ba2f8d26c85",
   "metadata": {},
   "source": [
    "Q5. Generate a random sample of size 1000 from a binomial distribution with probability of success 0.4 and plot a histogram of the results using matplotlib."
   ]
  },
  {
   "cell_type": "code",
   "execution_count": 28,
   "id": "cc3827ef-e21d-49e3-84d5-8c9fdf0a061b",
   "metadata": {},
   "outputs": [
    {
     "data": {
      "image/png": "[encoded data removed]",
      "text/plain": [
       "<Figure size 640x480 with 1 Axes>"
      ]
     },
     "metadata": {},
     "output_type": "display_data"
    }
   ],
   "source": [
    "import numpy as np\n",
    "import matplotlib.pyplot as plt\n",
    "x=np.random.binomial(1,0.4,1000)\n",
    "plt.hist(x)\n",
    "plt.xlabel(\"Probability of Occurance\")\n",
    "plt.ylabel(\"No. of Occurance\")\n",
    "plt.show()"
   ]
  },
  {
   "cell_type": "markdown",
   "id": "8cbee1d8-3a7f-4a45-b815-be5eba3e635f",
   "metadata": {},
   "source": [
    "Q6. Write a Python function to calculate the cumulative distribution function of a Poisson distribution with given mean at a given point."
   ]
  },
  {
   "cell_type": "code",
   "execution_count": 53,
   "id": "db14ec6c-9b68-40cd-b9cd-5e858a7d2156",
   "metadata": {},
   "outputs": [],
   "source": [
    "import math\n",
    "def cdf(mean,x):\n",
    "    den = math.factorial(x)\n",
    "    expo = math.exp(-mean)\n",
    "    coef = (mean**x)\n",
    "    \n",
    "    return (expo*coef)/den\n",
    "\n"
   ]
  },
  {
   "cell_type": "markdown",
   "id": "df185809-1e3e-4621-8b27-426c23004309",
   "metadata": {},
   "source": [
    "Q7. How Binomial distribution different from Poisson distribution?"
   ]
  },
  {
   "cell_type": "markdown",
   "id": "b797fb1f-3a90-4c43-869f-3e4836698a8a",
   "metadata": {},
   "source": [
    "# Binomial Distribution:\n",
    "\n",
    "1. The Binomial distribution is used when the trials are independent, and each trial has two possible outcomes (success or failure).\n",
    "2. The Binomial distribution requires a fixed number of trials (n) to be specified before conducting the experiments. It models the number of successes (or events with a certain characteristic) in these trials.\n",
    "3. Each trial in the Binomial distribution has two possible outcomes: success (usually denoted as \"1\") with probability p and failure (usually denoted as \"0\") with probability q = 1 - p.\n",
    "4. The Binomial distribution is defined by two parameters: the number of trials (n) and the probability of success (p) for each trial.\n",
    "5. The Binomial distribution is commonly used in scenarios where there are a fixed number of independent trials, such as coin flips, success/failure experiments.\n",
    "\n",
    "# Poisson Distribution:\n",
    "1. The Poisson distribution is used when the events occur randomly and independently over a fixed interval of time or space. It doesn't require a fixed number of trials like the Binomial distribution.\n",
    "2. The Poisson distribution does not require a fixed number of trials. It models the number of events occurring in a fixed interval of time or space, and the average rate of occurrence (λ) is used to describe the distribution.\n",
    "3. The Poisson distribution is a discrete distribution, where the number of events in the interval can range from 0 to infinity. There are infinitely many possible outcomes.\n",
    "4. The Poisson distribution is defined by one parameter: the average rate of occurrence (λ) of events in the fixed interval.\n",
    "5. The Poisson distribution is often used to model rare events that occur at a constant average rate per unit of time or space, such as the number of customer arrivals in a given time interval or the number of accidents on a road per day."
   ]
  },
  {
   "cell_type": "markdown",
   "id": "bb9779e2-b34f-4bf3-a6f1-1ac80cef003e",
   "metadata": {},
   "source": [
    "Q8. Generate a random sample of size 1000 from a Poisson distribution with mean 5 and calculate the\n",
    "sample mean and variance."
   ]
  },
  {
   "cell_type": "code",
   "execution_count": 43,
   "id": "9db8e035-748e-43ae-889c-cb2a679dae73",
   "metadata": {},
   "outputs": [
    {
     "name": "stdout",
     "output_type": "stream",
     "text": [
      "sample mean is: 4.946\n",
      "sample variance is: 5.079084\n"
     ]
    }
   ],
   "source": [
    "sample = np.random.poisson(5,1000)\n",
    "mean = sample.mean()\n",
    "variance = sample.var()\n",
    "print(\"sample mean is:\",mean)\n",
    "print(\"sample variance is:\",variance)"
   ]
  },
  {
   "cell_type": "markdown",
   "id": "887db43e-4f5c-4dfb-9b9f-b771692e4dd7",
   "metadata": {},
   "source": [
    "Q9. How mean and variance are related in Binomial distribution and Poisson distribution?"
   ]
  },
  {
   "cell_type": "markdown",
   "id": "8be6ad3f-cfcb-4a0b-af69-47303e086f15",
   "metadata": {},
   "source": [
    "# Binomial Distribution:\n",
    "Suppose we have a Binomial distribution with parameters n (number of trials) and p (probability of success in each trial). The mean (μ) and variance (σ^2) of the Binomial distribution are given by:\n",
    "\n",
    "Mean (μ) = n * p\n",
    "Variance (σ^2) = n * p * (1 - p)\n",
    "\n",
    "1. The mean of the Binomial distribution is equal to the product of the number of trials (n) and the probability of success in each trial (p). As n increases, the number of trials becomes larger, and the spread of the distribution also increases.\n",
    "2. The variance of the Binomial distribution is equal to the product of n, p, and (1 - p). As n increases, the variance increases proportionally, but the shape of the distribution remains relatively symmetric.\n",
    "\n",
    "\n",
    "# Poisson Distribution:\n",
    "\n",
    "The Poisson distribution is characterized by a single parameter, λ (lambda), which represents the average rate of events occurring in a fixed interval of time or space. The mean (μ) and variance (σ^2) of the Poisson distribution are both equal to λ:\n",
    "\n",
    "Mean (μ) = λ\n",
    "Variance (σ^2) = λ\n",
    "\n",
    "1. The mean of the Poisson distribution is equal to the single parameter λ, which represents the average rate of events occurring in a fixed interval of time or space.\n",
    "2. The variance of the Poisson distribution is also equal to λ. In the Poisson distribution, the mean and variance are always equal, which is a characteristic of this distribution.\n"
   ]
  },
  {
   "cell_type": "markdown",
   "id": "64af7771-1cf4-418e-a825-3e829fe656a3",
   "metadata": {},
   "source": [
    "Q10. In normal distribution with respect to mean position, where does the least frequent data appear?"
   ]
  },
  {
   "cell_type": "markdown",
   "id": "a86e4957-d8eb-4ef5-b043-2d580e009fc3",
   "metadata": {},
   "source": [
    "\n",
    "In a normal distribution, the data is symmetrically distributed around the mean. Therefore, the least frequent data appears at the tails of the distribution, farthest from the mean position."
   ]
  },
  {
   "cell_type": "code",
   "execution_count": null,
   "id": "c742918b-7f51-4ee0-8758-5c827bef3836",
   "metadata": {},
   "outputs": [],
   "source": []
  }
 ],
 "metadata": {
  "kernelspec": {
   "display_name": "Python 3 (ipykernel)",
   "language": "python",
   "name": "python3"
  },
  "language_info": {
   "codemirror_mode": {
    "name": "ipython",
    "version": 3
   },
   "file_extension": ".py",
   "mimetype": "text/x-python",
   "name": "python",
   "nbconvert_exporter": "python",
   "pygments_lexer": "ipython3",
   "version": "3.10.8"
  }
 },
 "nbformat": 4,
 "nbformat_minor": 5
}
